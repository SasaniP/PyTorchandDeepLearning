{
  "nbformat": 4,
  "nbformat_minor": 0,
  "metadata": {
    "colab": {
      "provenance": [],
      "authorship_tag": "ABX9TyMvJvfipTD7DKD1V8vZh4GT",
      "include_colab_link": true
    },
    "kernelspec": {
      "name": "python3",
      "display_name": "Python 3"
    },
    "language_info": {
      "name": "python"
    }
  },
  "cells": [
    {
      "cell_type": "markdown",
      "metadata": {
        "id": "view-in-github",
        "colab_type": "text"
      },
      "source": [
        "<a href=\"https://colab.research.google.com/github/SasaniP/PyTorchandDeepLearning/blob/main/DeepLearningWithPyTorch.ipynb\" target=\"_parent\"><img src=\"https://colab.research.google.com/assets/colab-badge.svg\" alt=\"Open In Colab\"/></a>"
      ]
    },
    {
      "cell_type": "markdown",
      "source": [
        "# PyTorch and Deep Learning"
      ],
      "metadata": {
        "id": "kGOILjVuOlyU"
      }
    },
    {
      "cell_type": "markdown",
      "source": [
        "#### What is deep learning good for?\n",
        "1. complex natured problems that takes ages to work on if done one by one\n",
        "2. works on a continously changing environments by 'learning'\n",
        "3. when dealing with a large amount of data"
      ],
      "metadata": {
        "id": "FfT9MC4vQbAf"
      }
    },
    {
      "cell_type": "markdown",
      "source": [
        "#### Machine learning vs Deep learning\n",
        "\n",
        "* Machine learning works on structured data. Numbers in a table typically.\n",
        "[ random forest, tree based learning, Naive Bayes, KNearestNeighbour, SimpleVectorMachine, etc. ]\n",
        "* Dep learning works on unstructure data. typically Images that does not have a structure. [ neural networks ]"
      ],
      "metadata": {
        "id": "eHG2c8fwRixT"
      }
    },
    {
      "cell_type": "markdown",
      "source": [
        "#### What are Neural Networks\n",
        "1. normal/unstructured data (raw data)\n",
        "2. turn into numbers (numerical encoding)\n",
        "3. choosing the best NN (learning parameters: patterns, features, weights)\n",
        "4. outputs in numbers (representation outputs)\n",
        "5. human understandable outputs (outputs)\n",
        "                 "
      ],
      "metadata": {
        "id": "iGo7LzbdRiu7"
      }
    },
    {
      "cell_type": "markdown",
      "source": [
        "#### Anatomy of Neural Network\n",
        "NN consist of 3 parts.\n",
        "1. inputs (nx1 matrix)\n",
        "2. hidden layers (nxn matrix)\n",
        "3. outputs (nx1 matrix)\n",
        "\n",
        "These 3 collectively called the architecture of the nn. These 3 parts are made up of neurones. 'n' above are the no of nurones.\n",
        "\n",
        "The hidden layer does 'learns patterns'. 'Patterns' also known as, embedding, weights, feature representation, feature vectors..\n",
        "\n",
        "The layer combination can be either linear (y=mx+c) or non-linear (y=mxx+nx+c)"
      ],
      "metadata": {
        "id": "Rbg2C_rYRisT"
      }
    },
    {
      "cell_type": "markdown",
      "source": [],
      "metadata": {
        "id": "ZhzKBcpbRipr"
      }
    },
    {
      "cell_type": "markdown",
      "source": [],
      "metadata": {
        "id": "vUnU4bHaRinE"
      }
    },
    {
      "cell_type": "markdown",
      "source": [],
      "metadata": {
        "id": "rqoWMCkERiic"
      }
    },
    {
      "cell_type": "markdown",
      "source": [],
      "metadata": {
        "id": "k0TvMUWBRiYO"
      }
    },
    {
      "cell_type": "code",
      "execution_count": null,
      "metadata": {
        "id": "nSJ3ple6Okid"
      },
      "outputs": [],
      "source": []
    }
  ]
}